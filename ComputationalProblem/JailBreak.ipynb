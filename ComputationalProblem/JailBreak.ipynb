{
  "nbformat": 4,
  "nbformat_minor": 0,
  "metadata": {
    "colab": {
      "provenance": []
    },
    "kernelspec": {
      "name": "python3",
      "display_name": "Python 3"
    },
    "language_info": {
      "name": "python"
    }
  },
  "cells": [
    {
      "cell_type": "markdown",
      "source": [
        "#GenAI (ChatGPT) code for Jail Break:"
      ],
      "metadata": {
        "id": "H6DHx99XbPjT"
      }
    },
    {
      "cell_type": "code",
      "execution_count": null,
      "metadata": {
        "colab": {
          "base_uri": "https://localhost:8080/"
        },
        "id": "xp2DuDsjbKpp",
        "outputId": "27b74923-a4c0-4fc3-d2ac-a3b115078129"
      },
      "outputs": [
        {
          "output_type": "stream",
          "name": "stdout",
          "text": [
            "Number of escaped prisoners (initially locked): 10\n",
            "Number of escaped prisoners (initially unlocked): 90\n"
          ]
        }
      ],
      "source": [
        "def count_escapes(num_prisoners: int, initial_state: str = 'locked') -> int:\n",
        "    def toggles_count(cell: int) -> int:\n",
        "        if initial_state == 'locked':\n",
        "            return sum(1 for i in range(1, cell + 1) if cell % i == 0)\n",
        "        else:\n",
        "            return sum(1 for i in range(1, cell + 1) if cell % i == 0) + 1\n",
        "\n",
        "    return sum(1 for cell in range(1, num_prisoners + 1) if toggles_count(cell) % 2 == 1)\n",
        "\n",
        "def main():\n",
        "    num_prisoners: int = 100\n",
        "\n",
        "    # Case when all cells are initially locked\n",
        "    escaped_prisoners_locked: int = count_escapes(num_prisoners, initial_state='locked')\n",
        "    print(\"Number of escaped prisoners (initially locked):\", escaped_prisoners_locked)\n",
        "\n",
        "    # Case when all cells are initially unlocked\n",
        "    escaped_prisoners_unlocked: int = count_escapes(num_prisoners, initial_state='unlocked')\n",
        "    print(\"Number of escaped prisoners (initially unlocked):\", escaped_prisoners_unlocked)\n",
        "\n",
        "if __name__ == \"__main__\":\n",
        "    main()\n"
      ]
    },
    {
      "cell_type": "code",
      "source": [
        "count_escapes(1, 'locked')"
      ],
      "metadata": {
        "colab": {
          "base_uri": "https://localhost:8080/"
        },
        "id": "OrEVW0IObW2K",
        "outputId": "28d934bd-741e-402d-e6f6-6f754b5ba64d"
      },
      "execution_count": null,
      "outputs": [
        {
          "output_type": "execute_result",
          "data": {
            "text/plain": [
              "1"
            ]
          },
          "metadata": {},
          "execution_count": 4
        }
      ]
    },
    {
      "cell_type": "code",
      "source": [
        "count_escapes(1, 'unlocked')"
      ],
      "metadata": {
        "colab": {
          "base_uri": "https://localhost:8080/"
        },
        "id": "X4VKpdGtbzYw",
        "outputId": "86af3059-5eae-4630-ff3b-444d385e2726"
      },
      "execution_count": null,
      "outputs": [
        {
          "output_type": "execute_result",
          "data": {
            "text/plain": [
              "0"
            ]
          },
          "metadata": {},
          "execution_count": 5
        }
      ]
    },
    {
      "cell_type": "code",
      "source": [
        "count_escapes(0, 'locked')"
      ],
      "metadata": {
        "colab": {
          "base_uri": "https://localhost:8080/"
        },
        "id": "27n9Qd4XbhEl",
        "outputId": "e4f658c2-1990-4a6e-f90e-ad5cb4526bae"
      },
      "execution_count": null,
      "outputs": [
        {
          "output_type": "execute_result",
          "data": {
            "text/plain": [
              "0"
            ]
          },
          "metadata": {},
          "execution_count": 6
        }
      ]
    },
    {
      "cell_type": "code",
      "source": [
        "count_escapes(0, 'unlocked')"
      ],
      "metadata": {
        "colab": {
          "base_uri": "https://localhost:8080/"
        },
        "id": "2Kara3uPbj2j",
        "outputId": "17e07361-5ef1-4c05-ab24-7f75dcf9cf7b"
      },
      "execution_count": null,
      "outputs": [
        {
          "output_type": "execute_result",
          "data": {
            "text/plain": [
              "0"
            ]
          },
          "metadata": {},
          "execution_count": 7
        }
      ]
    },
    {
      "cell_type": "code",
      "source": [
        "count_escapes(10, 'locked')"
      ],
      "metadata": {
        "colab": {
          "base_uri": "https://localhost:8080/"
        },
        "id": "zM_jyKHRb9SL",
        "outputId": "6b9d88ad-82ce-43ee-91f0-d60a449bcf19"
      },
      "execution_count": null,
      "outputs": [
        {
          "output_type": "execute_result",
          "data": {
            "text/plain": [
              "3"
            ]
          },
          "metadata": {},
          "execution_count": 8
        }
      ]
    },
    {
      "cell_type": "code",
      "source": [
        "count_escapes(10, 'unlocked')"
      ],
      "metadata": {
        "colab": {
          "base_uri": "https://localhost:8080/"
        },
        "id": "piDjyXfKcCyq",
        "outputId": "750ee31b-a7e0-408a-afb4-0f7ff2ee668d"
      },
      "execution_count": null,
      "outputs": [
        {
          "output_type": "execute_result",
          "data": {
            "text/plain": [
              "7"
            ]
          },
          "metadata": {},
          "execution_count": 9
        }
      ]
    }
  ]
}