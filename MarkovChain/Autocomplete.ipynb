{
  "nbformat": 4,
  "nbformat_minor": 0,
  "metadata": {
    "colab": {
      "provenance": []
    },
    "kernelspec": {
      "name": "python3",
      "display_name": "Python 3"
    },
    "language_info": {
      "name": "python"
    }
  },
  "cells": [
    {
      "cell_type": "code",
      "execution_count": null,
      "metadata": {
        "id": "y-yvpkFheT51"
      },
      "outputs": [],
      "source": [
        "import random\n",
        "\n",
        "def generate(filename: str, start_words: list[str], chain_length: int, num_generated: int) -> str:\n",
        "    # creating a word dictionary\n",
        "    with open(filename, 'r', encoding='utf-8') as file:\n",
        "        text = file.read()\n",
        "\n",
        "    words = text.split()\n",
        "\n",
        "    markovs = {}\n",
        "    prefix = (\"*\",) * chain_length\n",
        "\n",
        "    for word in words:\n",
        "        markovs[prefix] = markovs.get(prefix, []) + [word]\n",
        "        prefix = prefix[1:] + (word,)\n",
        "\n",
        "    # generating the words\n",
        "    sentence = start_words.copy()\n",
        "    while len(sentence) < num_generated:\n",
        "        prefix = tuple(sentence[-chain_length:])\n",
        "        if prefix in markovs:\n",
        "            next_word = random.choice(markovs[prefix])\n",
        "            sentence.append(next_word)\n",
        "        else:\n",
        "            break\n",
        "    return ' '.join(sentence)\n",
        "\n",
        "# Example usage\n",
        "# generated_sentence = generate(\"your_file.txt\", [\"start\", \"words\"], 2, 10)\n",
        "# print(generated_sentence)\n"
      ]
    },
    {
      "cell_type": "markdown",
      "source": [
        "For easy testing purposes, below is the code that takes in sentences as input instead of file."
      ],
      "metadata": {
        "id": "rT6qrWPfipPS"
      }
    },
    {
      "cell_type": "code",
      "source": [
        "import random\n",
        "\n",
        "def generate_nofile(text: str, start_words: list[str], chain_length: int, num_generated: int) -> str:\n",
        "    # creating a word dictionary\n",
        "    words = text.split()\n",
        "    markovs = {}\n",
        "    prefix = (\"*\",) * chain_length\n",
        "\n",
        "    for word in words:\n",
        "        markovs[prefix] = markovs.get(prefix, []) + [word]\n",
        "        prefix = prefix[1:] + (word,)\n",
        "\n",
        "    # generating the words\n",
        "    sentence = start_words.copy()\n",
        "    while len(sentence) < num_generated:\n",
        "        prefix = tuple(sentence[-chain_length:])\n",
        "        if prefix in markovs:\n",
        "            next_word = random.choice(markovs[prefix])\n",
        "            sentence.append(next_word)\n",
        "        else:\n",
        "            break\n",
        "    return ' '.join(sentence)\n"
      ],
      "metadata": {
        "id": "qyn_9aVLif0M"
      },
      "execution_count": null,
      "outputs": []
    },
    {
      "cell_type": "code",
      "source": [
        "text = \"This is a test sentence for Markov chain text generation. Markov chains are stochastic models that predict the next state based on the current state.\"\n",
        "start_words = [\"Markov\", \"chains\"]\n",
        "chain_length = 2\n",
        "num_generated = 10\n",
        "\n",
        "generated_sentence = generate_nofile(text, start_words, chain_length, num_generated)\n",
        "print(generated_sentence)"
      ],
      "metadata": {
        "colab": {
          "base_uri": "https://localhost:8080/"
        },
        "id": "dFZJe7uCjV-Y",
        "outputId": "b1106262-c4a4-4942-d61f-507b137db1e9"
      },
      "execution_count": null,
      "outputs": [
        {
          "output_type": "stream",
          "name": "stdout",
          "text": [
            "Markov chains are stochastic models that predict the next state\n"
          ]
        }
      ]
    },
    {
      "cell_type": "code",
      "source": [
        "text2 = \"The quick brown fox jumps over the lazy dog.\"\n",
        "start_words2 = [\"quick\", \"brown\"]\n",
        "chain_length2 = 1\n",
        "num_generated2 = 6\n",
        "\n",
        "generated_sentence2 = generate_nofile(text2, start_words2, chain_length2, num_generated2)\n",
        "print(generated_sentence2)"
      ],
      "metadata": {
        "colab": {
          "base_uri": "https://localhost:8080/"
        },
        "id": "9hjy3qVUjiRf",
        "outputId": "0ea2f252-14ca-4de1-8d8b-317dd52f66a8"
      },
      "execution_count": null,
      "outputs": [
        {
          "output_type": "stream",
          "name": "stdout",
          "text": [
            "quick brown fox jumps over the\n"
          ]
        }
      ]
    },
    {
      "cell_type": "code",
      "source": [
        "text3 = \"\"\"\n",
        "To be or not to be, that is the question. Whether 'tis nobler in the mind to suffer\n",
        "The slings and arrows of outrageous fortune, Or to take arms against a sea of\n",
        "troubles, And by opposing end them? To die: to sleep; No more; and by a sleep to\n",
        "say we end The heart-ache and the thousand natural shocks That flesh is heir to,\n",
        "'tis a consummation Devoutly to be wish'd. To be or not to be, that is the question.\n",
        "Whether 'tis nobler in the mind to suffer The slings and arrows of outrageous fortune,\n",
        "Or to take arms against a sea of troubles, And by opposing end them? To die: to sleep;\n",
        "No more; and by a sleep to say we end The heart-ache and the thousand natural shocks\n",
        "That flesh is heir to, 'tis a consummation Devoutly to be wish'd. To be or not to be,\n",
        "whether 'tis nobler in the mind to suffer The slings and arrows\n",
        "of outrageous fortune, Or to take arms against a sea of troubles, And by opposing end them?\n",
        "To die: to sleep; No more; and by a sleep to say we end The heart-ache and the thousand\n",
        "natural shocks That flesh is heir to, 'tis a consummation Devoutly to be wish'd.\n",
        "\"\"\"\n",
        "\n",
        "start_words3 = [\"To\", \"be\", \"or\"]\n",
        "chain_length3 = 3\n",
        "num_generated3 = 100\n",
        "generated_sentence3 = generate_nofile(text3, start_words3, chain_length3, num_generated3)\n",
        "print(generated_sentence3)"
      ],
      "metadata": {
        "colab": {
          "base_uri": "https://localhost:8080/"
        },
        "id": "G2uE_mdPjkqN",
        "outputId": "70bdd436-0fea-4f8f-c046-2ce2e3471970"
      },
      "execution_count": null,
      "outputs": [
        {
          "output_type": "stream",
          "name": "stdout",
          "text": [
            "To be or not to be, that is the question. Whether 'tis nobler in the mind to suffer The slings and arrows of outrageous fortune, Or to take arms against a sea of troubles, And by opposing end them? To die: to sleep; No more; and by a sleep to say we end The heart-ache and the thousand natural shocks That flesh is heir to, 'tis a consummation Devoutly to be wish'd. To be or not to be, whether 'tis nobler in the mind to suffer The slings and arrows of outrageous fortune, Or to take arms against a sea\n"
          ]
        }
      ]
    }
  ]
}